{
 "cells": [
  {
   "cell_type": "code",
   "execution_count": null,
   "metadata": {},
   "outputs": [],
   "source": [
    "import logging\n",
    "level='warn'\n",
    "def use_logging(func):\n",
    "    print(\"close outside\")\n",
    "    def wrapper(*args, **kwargs):\n",
    "        print(\"close inside\")\n",
    "        if level == 'warn':\n",
    "            logging.warn('%s is running' % func.__name__)\n",
    "        return func(*args)\n",
    "    return wrapper\n",
    "\n",
    "@use_logging\n",
    "def foo(name = 'foo'):\n",
    "    print ('i am %s' % name)\n",
    "\n",
    "foo()\n",
    "        "
   ]
  },
  {
   "cell_type": "code",
   "execution_count": null,
   "metadata": {},
   "outputs": [],
   "source": [
    "import logging\n",
    "def use_logging(level='debug'):\n",
    "    print(\"outside of dec\")\n",
    "    def decorder(func):\n",
    "        print(\"outside of wrap\")\n",
    "        def wrapin(*arg,**args):\n",
    "            if level == 'warn':\n",
    "                logging.warn('%s is running' % func.__name__)\n",
    "            return func(*args)\n",
    "        return wrapin\n",
    "    return decorder\n",
    "\n",
    "@use_logging(level = 'warn')\n",
    "def foo(name = 'foo'):\n",
    "    print ('i am %s' % name)\n",
    "\n",
    "foo()"
   ]
  },
  {
   "cell_type": "code",
   "execution_count": 16,
   "metadata": {},
   "outputs": [
    {
     "name": "stdout",
     "output_type": "stream",
     "text": [
      "move 1 (0.20, 0.30)\n"
     ]
    }
   ],
   "source": [
    "def validate(**vkargs):\n",
    "    def decorator(func):\n",
    "        def wrapper(**kargs):\n",
    "            for key in vkargs:\n",
    "                # 根据vkargs中的参数的类型对kargs的参数进行类型转换\n",
    "                kargs[key] = vkargs[key](kargs[key])\n",
    "            return func(**kargs)\n",
    "        return wrapper\n",
    "    return decorator\n",
    "\n",
    "\n",
    "@validate(x=int, y=float, z=float)\n",
    "def move(x, y, z):\n",
    "    print(\"move %d (%0.2f, %0.2f)\"%(x, y, z))\n",
    "\n",
    "move(x=\"1\", y=\"0.2\", z=\"0.3\")\n"
   ]
  },
  {
   "cell_type": "code",
   "execution_count": null,
   "metadata": {},
   "outputs": [],
   "source": [
    "# -*- coding: utf-8 -*-\n",
    "name = 'abc'\n",
    "password='123'\n",
    "\n",
    "def certi(model):#装饰器\n",
    "    def outr(fun):#装饰器加参数需要多加一层嵌套\n",
    "        def login(*args,**kwargs):#为了兼容各类函数参数，添加 *args,**kwargs 不固定参数\n",
    "            if model=='password':\n",
    "                print('enter password')\n",
    "                user_name = input('user_name ').strip()\n",
    "                paswd=input('password ').strip()\n",
    "                if user_name==name and paswd==password:\n",
    "                    print('pass')\n",
    "                    return fun(*args,**kwargs)\n",
    "                else:\n",
    "                    print('error ')\n",
    "                    exit()\n",
    "            elif model=='lamp':\n",
    "                print('this is lamp')\n",
    "                return fun(*args,**kwargs)\n",
    "            else:\n",
    "                print('error')\n",
    "        return login\n",
    "    return outr\n",
    "\n",
    "\n",
    "def indxe():\n",
    "    print('home page !!')\n",
    "\n",
    "@certi(model='password')\n",
    "def user():\n",
    "    print('user page !!')\n",
    "\n",
    "@certi(model='lamp')\n",
    "def bbs(name):\n",
    "    print('bbs %s!!'%name)\n",
    "\n",
    "\n",
    "\n",
    "if __name__ == '__main__':\n",
    "    indxe()\n",
    "    user()\n",
    "    bbs(name='yjj')"
   ]
  },
  {
   "cell_type": "code",
   "execution_count": null,
   "metadata": {},
   "outputs": [],
   "source": [
    "class mylocker:\n",
    "    def __init__(self):\n",
    "        print(\"mylocker.__init__() called.\")\n",
    "\n",
    "    @staticmethod\n",
    "    def acquire():\n",
    "        print(\"mylocker.acquire() called.\")\n",
    "\n",
    "    @staticmethod\n",
    "    def unlock():\n",
    "        print(\"  mylocker.unlock() called.\")\n",
    "\n",
    "class lockerex(mylocker):\n",
    "    @staticmethod\n",
    "    def acquire():\n",
    "        print(\"lockerex.acquire() called.\")\n",
    "\n",
    "    @staticmethod\n",
    "    def unlock():\n",
    "        print(\"  lockerex.unlock() called.\")\n",
    "\n",
    "def lockhelper(cls):\n",
    "    def _deco(func):\n",
    "        def __deco2(*args, **kwargs):\n",
    "            print(\"before %s called.\" % func.__name__)\n",
    "            cls.acquire()\n",
    "            try:\n",
    "                return func(*args, **kwargs)\n",
    "            finally:\n",
    "                cls.unlock()\n",
    "        return __deco2\n",
    "    return _deco\n",
    "\n",
    "class example:\n",
    "    @lockhelper(mylocker)\n",
    "    @lockhelper(lockerex)\n",
    "    def myfunc2(self, a, b):\n",
    "        print(\" myfunc2() called.\")\n",
    "        print(a+b)\n",
    "\n",
    "a = example()\n",
    "a.myfunc2(1,2)"
   ]
  },
  {
   "cell_type": "code",
   "execution_count": null,
   "metadata": {},
   "outputs": [],
   "source": [
    "import unittest"
   ]
  }
 ],
 "metadata": {
  "kernelspec": {
   "display_name": "Python 3",
   "language": "python",
   "name": "python3"
  },
  "language_info": {
   "codemirror_mode": {
    "name": "ipython",
    "version": 3
   },
   "file_extension": ".py",
   "mimetype": "text/x-python",
   "name": "python",
   "nbconvert_exporter": "python",
   "pygments_lexer": "ipython3",
   "version": "3.6.5"
  }
 },
 "nbformat": 4,
 "nbformat_minor": 2
}
