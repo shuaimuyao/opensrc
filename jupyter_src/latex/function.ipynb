{
 "cells": [
  {
   "cell_type": "markdown",
   "metadata": {},
   "source": [
    "$$\n",
    "\\sum_{1\\le i\\le 100}\\vphantom{\\sum}^{'} A(i)\n",
    "\\qquad\n",
    "\\mathop{{\\sum}'}_{1\\le i\\le 100} A(i)\n",
    "\\qquad\n",
    "\\sideset{^*}{'}\\sum_{1\\le i\\le 100} A(i)\n",
    "$$"
   ]
  },
  {
   "cell_type": "markdown",
   "metadata": {},
   "source": [
    "$$\n",
    "x(t) = \\sum_{k=1}^{M} x_{k}(t) + n(t)\\\\\n",
    "= A_{k}(t) e^{j \\varphi_{k}(t)}\n",
    "$$"
   ]
  },
  {
   "cell_type": "markdown",
   "metadata": {},
   "source": [
    "$$\\begin{equation}\n",
    "\\begin{array}{l}\n",
    "\\displaystyle a+b=1 \\\\\n",
    "\\displaystyle c+d=2\n",
    "\\end{array}\n",
    "\\end{equation}\n",
    "$$"
   ]
  },
  {
   "cell_type": "markdown",
   "metadata": {},
   "source": [
    "$$\n",
    "\\begin{align}\n",
    "\\frac{\\partial J(\\theta)}{\\partial\\theta_j}\n",
    "& = -\\frac1m\\sum_{i=0}^m(y^i-h_\\theta(x^i)) \\frac{\\partial}{\\partial\\theta_j}(y^i-h_\\theta(x^i)) \\\\\n",
    "& = -\\frac1m\\sum_{i=0}^m(y^i-h_\\theta(x^i)) \\frac{\\partial}{\\partial\\theta_j}(\\sum_{j=0}^n\\theta_jx_j^i-y^i) \\\\\n",
    "& = -\\frac1m\\sum_{i=0}^m(y^i-h_\\theta(x^i))x^i_j\n",
    "\\end{align}\n",
    "$$"
   ]
  },
  {
   "cell_type": "markdown",
   "metadata": {},
   "source": [
    "$$h(\\theta) = \\sum_{j = 0} ^n \\theta_j x_j$$"
   ]
  },
  {
   "cell_type": "markdown",
   "metadata": {},
   "source": [
    "$$J(\\theta) = \\frac{1}{2m}\\sum_{i = 0} ^m(y^i - h_\\theta (x^i))^2$$"
   ]
  },
  {
   "cell_type": "markdown",
   "metadata": {},
   "source": [
    "$$\\frac{\\partial J(\\theta)}{\\partial\\theta_j}=-\\frac1m\\sum_{i=0}^m(y^i-h_\\theta(x^i))x^i_j $$"
   ]
  },
  {
   "cell_type": "markdown",
   "metadata": {},
   "source": [
    "$$\\sqrt[{n+2}+m]{5}$$"
   ]
  },
  {
   "cell_type": "markdown",
   "metadata": {},
   "source": [
    "$$lim_{x \\to \\infty}$$"
   ]
  }
 ],
 "metadata": {
  "kernelspec": {
   "display_name": "Python 3",
   "language": "python",
   "name": "python3"
  },
  "language_info": {
   "codemirror_mode": {
    "name": "ipython",
    "version": 3
   },
   "file_extension": ".py",
   "mimetype": "text/x-python",
   "name": "python",
   "nbconvert_exporter": "python",
   "pygments_lexer": "ipython3",
   "version": "3.6.5"
  }
 },
 "nbformat": 4,
 "nbformat_minor": 2
}
