{
 "cells": [
  {
   "cell_type": "code",
   "execution_count": null,
   "metadata": {},
   "outputs": [],
   "source": [
    "$$\n",
    "    \\begin{matrix}\n",
    "    1 & x & x^2 \\\\\n",
    "    1 & y & y^2 \\\\\n",
    "    1 & z & z^2 \\\\\n",
    "    \\end{matrix}\n",
    "$$"
   ]
  },
  {
   "cell_type": "code",
   "execution_count": null,
   "metadata": {},
   "outputs": [],
   "source": [
    "$$\n",
    "X=\\left|\n",
    "    \\begin{matrix}\n",
    "        x_{11} & x_{12} & \\cdots & x_{1d}\\\\\n",
    "        x_{21} & x_{22} & \\cdots & x_{2d}\\\\\n",
    "        \\vdots & \\vdots & \\ddots & \\vdots\\\\\n",
    "        x_{m1} & x_{m2} & \\cdots & x_{md}\\\\\n",
    "    \\end{matrix}\n",
    "\\right|\n",
    "$$"
   ]
  },
  {
   "cell_type": "code",
   "execution_count": null,
   "metadata": {},
   "outputs": [],
   "source": [
    "$$\n",
    "f(n) =\n",
    "\\begin{cases}\n",
    "n/2,  & \\text{if $n$ is even} \\\\\n",
    "3n+1, & \\text{if $n$ is odd}\n",
    "\\end{cases}\n",
    "$$"
   ]
  },
  {
   "cell_type": "code",
   "execution_count": null,
   "metadata": {},
   "outputs": [],
   "source": [
    "$$\n",
    "\\left\\{ \n",
    "\\begin{array}{c}\n",
    "    a_1x+b_1y+c_1z=d_1 \\\\ \n",
    "    a_2x+b_2y+c_2z=d_2 \\\\ \n",
    "    a_3x+b_3y+c_3z=d_3\n",
    "\\end{array}\n",
    "\\right. \n",
    "$$"
   ]
  },
  {
   "cell_type": "markdown",
   "metadata": {},
   "source": [
    "$$\\int_0^n$$"
   ]
  }
 ],
 "metadata": {
  "kernelspec": {
   "display_name": "Python 3",
   "language": "python",
   "name": "python3"
  },
  "language_info": {
   "codemirror_mode": {
    "name": "ipython",
    "version": 3
   },
   "file_extension": ".py",
   "mimetype": "text/x-python",
   "name": "python",
   "nbconvert_exporter": "python",
   "pygments_lexer": "ipython3",
   "version": "3.6.5"
  }
 },
 "nbformat": 4,
 "nbformat_minor": 2
}
